{
  "nbformat": 4,
  "nbformat_minor": 0,
  "metadata": {
    "accelerator": "GPU",
    "colab": {
      "name": "Untitled2.ipynb",
      "provenance": [],
      "collapsed_sections": [],
      "authorship_tag": "ABX9TyMw32UoLqAXrqTtj9GDbjGg",
      "include_colab_link": true
    },
    "kernelspec": {
      "display_name": "Python 3",
      "name": "python3"
    }
  },
  "cells": [
    {
      "cell_type": "markdown",
      "metadata": {
        "id": "view-in-github",
        "colab_type": "text"
      },
      "source": [
        "<a href=\"https://colab.research.google.com/github/nishantgovil03/LJMUResearch/blob/main/SimpleRNN_AdamOptimizer.ipynb\" target=\"_parent\"><img src=\"https://colab.research.google.com/assets/colab-badge.svg\" alt=\"Open In Colab\"/></a>"
      ]
    },
    {
      "cell_type": "markdown",
      "metadata": {
        "id": "SIAayE71-fpL"
      },
      "source": [
        "The source code for text Summarization using SimpleRNN\r\n",
        "\r\n"
      ]
    },
    {
      "cell_type": "code",
      "metadata": {
        "colab": {
          "base_uri": "https://localhost:8080/"
        },
        "id": "qtTgT-bWKVKu",
        "outputId": "a6ed5e3b-47e6-4797-d93d-2b25d44e4589"
      },
      "source": [
        "from google.colab import drive\r\n",
        "drive.mount('/content/drive')"
      ],
      "execution_count": 1,
      "outputs": [
        {
          "output_type": "stream",
          "text": [
            "Mounted at /content/drive\n"
          ],
          "name": "stdout"
        }
      ]
    },
    {
      "cell_type": "markdown",
      "metadata": {
        "id": "8hCTwA3b4us9"
      },
      "source": [
        ""
      ]
    },
    {
      "cell_type": "code",
      "metadata": {
        "colab": {
          "base_uri": "https://localhost:8080/"
        },
        "id": "KzasM2VyKl0L",
        "outputId": "2bd09165-098d-436a-929a-23e1004f87e4"
      },
      "source": [
        "%cd drive/MyDrive/"
      ],
      "execution_count": 2,
      "outputs": [
        {
          "output_type": "stream",
          "text": [
            "/content/drive/MyDrive\n"
          ],
          "name": "stdout"
        }
      ]
    },
    {
      "cell_type": "markdown",
      "metadata": {
        "id": "TbGjzCxj8Abr"
      },
      "source": [
        "Import the required libraries"
      ]
    },
    {
      "cell_type": "code",
      "metadata": {
        "id": "Aa4IzDMuKpOe"
      },
      "source": [
        "import numpy as np\r\n",
        "import pandas as pd \r\n",
        "import re\r\n",
        "from bs4 import BeautifulSoup\r\n",
        "from keras.preprocessing.text import Tokenizer \r\n",
        "from keras.preprocessing.sequence import pad_sequences\r\n",
        "from nltk.corpus import stopwords\r\n",
        "from tensorflow.keras.layers import Input, SimpleRNN \r\n",
        "from tensorflow.keras.layers import  Embedding, Dense, Concatenate, TimeDistributed\r\n",
        "from tensorflow.keras.models import Model\r\n",
        "from tensorflow.keras.callbacks import EarlyStopping\r\n",
        "import warnings"
      ],
      "execution_count": 3,
      "outputs": []
    },
    {
      "cell_type": "markdown",
      "metadata": {
        "id": "rWS9YBDs8EXF"
      },
      "source": [
        "Get data"
      ]
    },
    {
      "cell_type": "code",
      "metadata": {
        "id": "dNcux6uIKswR"
      },
      "source": [
        "data = pd.read_csv(\"InputData.csv\")"
      ],
      "execution_count": 4,
      "outputs": []
    },
    {
      "cell_type": "markdown",
      "metadata": {
        "id": "PB-Hdlql8Hys"
      },
      "source": [
        "Data Pre-processing "
      ]
    },
    {
      "cell_type": "code",
      "metadata": {
        "colab": {
          "base_uri": "https://localhost:8080/"
        },
        "id": "egeVM5KmKuoD",
        "outputId": "703e18a1-3ab8-4b53-b33e-5d56adf373d8"
      },
      "source": [
        "data.info()"
      ],
      "execution_count": 5,
      "outputs": [
        {
          "output_type": "stream",
          "text": [
            "<class 'pandas.core.frame.DataFrame'>\n",
            "RangeIndex: 4450 entries, 0 to 4449\n",
            "Data columns (total 4 columns):\n",
            " #   Column                       Non-Null Count  Dtype \n",
            "---  ------                       --------------  ----- \n",
            " 0   Unnamed: 0                   4450 non-null   int64 \n",
            " 1   Articles without stop words  4450 non-null   object\n",
            " 2   Article with stop words      4450 non-null   object\n",
            " 3   Summary                      4450 non-null   object\n",
            "dtypes: int64(1), object(3)\n",
            "memory usage: 139.2+ KB\n"
          ],
          "name": "stdout"
        }
      ]
    },
    {
      "cell_type": "code",
      "metadata": {
        "colab": {
          "base_uri": "https://localhost:8080/"
        },
        "id": "YuRuTG_zMTOl",
        "outputId": "3c2efbc0-d7c9-418f-9ed1-d8c60c42a8a8"
      },
      "source": [
        "import nltk\r\n",
        "nltk.download('stopwords')"
      ],
      "execution_count": 6,
      "outputs": [
        {
          "output_type": "stream",
          "text": [
            "[nltk_data] Downloading package stopwords to /root/nltk_data...\n",
            "[nltk_data]   Unzipping corpora/stopwords.zip.\n"
          ],
          "name": "stdout"
        },
        {
          "output_type": "execute_result",
          "data": {
            "text/plain": [
              "True"
            ]
          },
          "metadata": {
            "tags": []
          },
          "execution_count": 6
        }
      ]
    },
    {
      "cell_type": "code",
      "metadata": {
        "id": "o4rsfuEkMjfs"
      },
      "source": [
        "contraction_mapping = {\"ain't\": \"is not\", \"aren't\": \"are not\",\"can't\": \"cannot\", \"'cause\": \"because\", \"could've\": \"could have\", \"couldn't\": \"could not\",\r\n",
        "                           \"didn't\": \"did not\",  \"doesn't\": \"does not\", \"don't\": \"do not\", \"hadn't\": \"had not\", \"hasn't\": \"has not\", \"haven't\": \"have not\",\r\n",
        "                           \"he'd\": \"he would\",\"he'll\": \"he will\", \"he's\": \"he is\", \"how'd\": \"how did\", \"how'd'y\": \"how do you\", \"how'll\": \"how will\", \"how's\": \"how is\",\r\n",
        "                           \"I'd\": \"I would\", \"I'd've\": \"I would have\", \"I'll\": \"I will\", \"I'll've\": \"I will have\",\"I'm\": \"I am\", \"I've\": \"I have\", \"i'd\": \"i would\",\r\n",
        "                           \"i'd've\": \"i would have\", \"i'll\": \"i will\",  \"i'll've\": \"i will have\",\"i'm\": \"i am\", \"i've\": \"i have\", \"isn't\": \"is not\", \"it'd\": \"it would\",\r\n",
        "                           \"it'd've\": \"it would have\", \"it'll\": \"it will\", \"it'll've\": \"it will have\",\"it's\": \"it is\", \"let's\": \"let us\", \"ma'am\": \"madam\",\r\n",
        "                           \"mayn't\": \"may not\", \"might've\": \"might have\",\"mightn't\": \"might not\",\"mightn't've\": \"might not have\", \"must've\": \"must have\",\r\n",
        "                           \"mustn't\": \"must not\", \"mustn't've\": \"must not have\", \"needn't\": \"need not\", \"needn't've\": \"need not have\",\"o'clock\": \"of the clock\",\r\n",
        "                           \"oughtn't\": \"ought not\", \"oughtn't've\": \"ought not have\", \"shan't\": \"shall not\", \"sha'n't\": \"shall not\", \"shan't've\": \"shall not have\",\r\n",
        "                           \"she'd\": \"she would\", \"she'd've\": \"she would have\", \"she'll\": \"she will\", \"she'll've\": \"she will have\", \"she's\": \"she is\",\r\n",
        "                           \"should've\": \"should have\", \"shouldn't\": \"should not\", \"shouldn't've\": \"should not have\", \"so've\": \"so have\",\"so's\": \"so as\",\r\n",
        "                           \"this's\": \"this is\",\"that'd\": \"that would\", \"that'd've\": \"that would have\", \"that's\": \"that is\", \"there'd\": \"there would\",\r\n",
        "                           \"there'd've\": \"there would have\", \"there's\": \"there is\", \"here's\": \"here is\",\"they'd\": \"they would\", \"they'd've\": \"they would have\",\r\n",
        "                           \"they'll\": \"they will\", \"they'll've\": \"they will have\", \"they're\": \"they are\", \"they've\": \"they have\", \"to've\": \"to have\",\r\n",
        "                           \"wasn't\": \"was not\", \"we'd\": \"we would\", \"we'd've\": \"we would have\", \"we'll\": \"we will\", \"we'll've\": \"we will have\", \"we're\": \"we are\",\r\n",
        "                           \"we've\": \"we have\", \"weren't\": \"were not\", \"what'll\": \"what will\", \"what'll've\": \"what will have\", \"what're\": \"what are\",\r\n",
        "                           \"what's\": \"what is\", \"what've\": \"what have\", \"when's\": \"when is\", \"when've\": \"when have\", \"where'd\": \"where did\", \"where's\": \"where is\",\r\n",
        "                           \"where've\": \"where have\", \"who'll\": \"who will\", \"who'll've\": \"who will have\", \"who's\": \"who is\", \"who've\": \"who have\",\r\n",
        "                           \"why's\": \"why is\", \"why've\": \"why have\", \"will've\": \"will have\", \"won't\": \"will not\", \"won't've\": \"will not have\",\r\n",
        "                           \"would've\": \"would have\", \"wouldn't\": \"would not\", \"wouldn't've\": \"would not have\", \"y'all\": \"you all\",\r\n",
        "                           \"y'all'd\": \"you all would\",\"y'all'd've\": \"you all would have\",\"y'all're\": \"you all are\",\"y'all've\": \"you all have\",\r\n",
        "                           \"you'd\": \"you would\", \"you'd've\": \"you would have\", \"you'll\": \"you will\", \"you'll've\": \"you will have\",\r\n",
        "                           \"you're\": \"you are\", \"you've\": \"you have\"}"
      ],
      "execution_count": 7,
      "outputs": []
    },
    {
      "cell_type": "code",
      "metadata": {
        "id": "DODdyK8HMNuy"
      },
      "source": [
        "stop_words=set(stopwords.words('english'))"
      ],
      "execution_count": 8,
      "outputs": []
    },
    {
      "cell_type": "markdown",
      "metadata": {
        "id": "UquVmNzn8NIy"
      },
      "source": [
        "Data Cleaner"
      ]
    },
    {
      "cell_type": "code",
      "metadata": {
        "id": "EyLPLMfRLtpa"
      },
      "source": [
        "def text_cleaner(text,num):\r\n",
        "    newString = text.lower()\r\n",
        "    newString = BeautifulSoup(newString, \"lxml\").text\r\n",
        "    newString = re.sub(r'\\([^)]*\\)', '', newString)\r\n",
        "    newString = re.sub('\"','', newString)\r\n",
        "    newString = ' '.join([contraction_mapping[t] if t in contraction_mapping else t for t in newString.split(\" \")])    \r\n",
        "    newString = re.sub(r\"'s\\b\",\"\",newString)\r\n",
        "    newString = re.sub(\"[^a-zA-Z]\", \" \", newString) \r\n",
        "    newString = re.sub('[m]{2,}', 'mm', newString)\r\n",
        "    if(num==0):\r\n",
        "        tokens = [w for w in newString.split() if not w in stop_words]\r\n",
        "    else:\r\n",
        "        tokens=newString.split()\r\n",
        "    long_words=[]\r\n",
        "    for i in tokens:\r\n",
        "        if len(i)>1:                                                 #removing short word\r\n",
        "            long_words.append(i)   \r\n",
        "    return (\" \".join(long_words)).strip()"
      ],
      "execution_count": 9,
      "outputs": []
    },
    {
      "cell_type": "code",
      "metadata": {
        "id": "JOAYwhfAMq2P"
      },
      "source": [
        "#call the function\r\n",
        "cleaned_text = []\r\n",
        "for t in data['Article with stop words']:\r\n",
        "    cleaned_text.append(text_cleaner(t,0))"
      ],
      "execution_count": 10,
      "outputs": []
    },
    {
      "cell_type": "code",
      "metadata": {
        "colab": {
          "base_uri": "https://localhost:8080/"
        },
        "id": "cvKyTwNnM3PN",
        "outputId": "3ea64b48-a554-4709-837c-c42703cccfd1"
      },
      "source": [
        "cleaned_text[:5]"
      ],
      "execution_count": 11,
      "outputs": [
        {
          "output_type": "execute_result",
          "data": {
            "text/plain": [
              "['budget set scene electiongordon brown seek put economy centre labour bid third term power delivers ninth budget expected stress importance continued economic low unemployment interest chancellor expected freeze petrol duty raise stamp duty threshold conservatives lib dems insist voters face higher taxes officials said mr brown thought increase stamp duty threshold freeze petrol duty extension tax credit scheme poorer families possible help pensioners stamp duty threshold rise intended help first time buyers likely theme three main general election ten years buyers much greater chance avoiding stamp close half million england wales selling less since average uk property prices doubled starting threshold stamp duty tax credits number properties incurring stamp duty rocketed government tax liberal democrats unveiled proposals raise stamp duty threshold tories also thought likely propose increased shadow chancellor oliver letwin branding stamp duty classic labour stealth tories say whatever chancellor gives away clawed back higher taxes labour returned shadow treasury chief secretary george osborne everyone looks british economy moment says sharp deterioration public black labour elected substantial tax increase budget order around mr brown former advisor ed parliamentary said examination tory plans economy showed would difference investment end next parliament two main accept need changes plans set meet spending lib dems david laws chancellor doubt tell us today wonderfully economy lot built increase personal consumer debt last years makes economy quite vulnerable potentially interest rates ever go significant snp leader alex salmond said party would introduce grant first time reduce corporation tax introduce citizens pension free means plaid cymru economics spokesman adam price said wanted help get people housing ladder increase minimum wage',\n",
              " 'army chiefs regiments decisionmilitary chiefs expected meet make final decision future scotland army committee army made senior defence discuss plans restructuring regiments proposals include cutting scotland six regiments five merging super plans faced stiff opposition campaigners politicians committee decision must ratified defence secretary geoff hoon prime minister tony expected made public next ministers announced reorganisation army drew question mark futures black kings scottish royal royal highland fusiliers argyll sutherland council scottish colonels proposed merger royal scots king scottish borderers single would one five new super proposals either merge amalgamate six regiments super regiment sparked political labour backbenchers opposition politicians opposing felt timing insensitive black watch frontline suffering save scottish regiments campaigners angered threatened stand labour next general ahead expected army board spokesman government army board spent past four months attempting trick serving soldiers public thinking planned changes scottish regiments good army serving much good destroy scotland regiments moulding single super regiment lead severe recruitment loss local connections regiments loss scotland important part heritage future regiments envy armies around alternative blueprint put forward labour mp eric proposed going ahead merger preserving brief speculation prime minister might consider seems speaking scotland last mr blair said aim preserve tradition introduce effective structure hinted super regiment want get rid history traditions regiment local connections far want make sure transfer people easily across regiments deploy prime minister said hoped concerns would taken account need effective change',\n",
              " 'howard denies split id cardsmichael howard denied shadow cabinet split decision back controversial labour plans introduce id tory leader said front bench team reached collective view holding good admitted easy decided support plans police said would help fight crime illegal lib dems pledged oppose bill debated next sources say senior party figures argued vociferously id card among reported serious reservations strategy senior shadow cabinet members david oliver letwin tim mr howard denied mr transport environment said plans also said confident shadow home secretary mr davis would set position clearly stands debate matter next mr howard said police said id cards could help foil terror bomb plot people could lose police say take acknowledged good libertarian arguments said shadow cabinet weighed conflicting interests reaching pretend easy decision end day decision also denied afraid looking soft compared conservatives announced support government plans monday within party told bbc mr howard always favour id tried introduce home tories insisted would hold ministers account precise purpose said would also press labour whether objectives could met whether home office would able deliver pledged assess cost effectiveness id cards whether people privacy would properly important remember bill take decade come full spokesman lib dem home affairs spokesman mark oaten branded id scheme waste money deeply signs michael howard overruling concerns id chairman bar guy mansfield qc warned real risk people margins society would driven hands going happen young asian men bomb gone going going tory douglas hogg said opposed plans id cards branding regressive step would intrude lives ordinary citizens without counterbalancing predicted ultimately carrying cards would become compulsory would lead large numbers britain ethnic minorities stopped',\n",
              " 'observers monitor uk electionministers invite international observers check forthcoming uk general election fairly move comes amid claims poll could marred electoral report two mps committees called thursday urgent changes electoral registration system combat vote rigging boost written response labour mp gordon government said would normally invite observers uk constitutional affairs minister christopher leslie fully expect us repeat previous practice date next general election government looked ways boosting voter fell last general election trial ballots four english regions last summer hit delays fraud liberal democrat peer lord greaves called last week international observers general election saying otherwise could months court challenges scale seen since thursday report drawn two committees scrutinising work office deputy prime minister said growth postal strong case tighten fraud protection requiring voters register rather also said three million people eligible vote registered general election suggest people aged black voters electoral young people shared accommodation thought miss one acts head household fill odpm committee chairman andrew bennett said individual voter opposed registration quickly introduced could dramatically reduce chances counterpart dca alan said delayed measures likely increase registration put place proved shadow constitutional affairs secretary oliver heald accused government dragging feet badly needed vital move ahead northern ireland system individual electoral registration safeguard integrity britain electoral report said individual registration treated carefully voters disappeared electoral roll northern ireland introduced report said government consider fines unregistered accepted many experts said would expensive system would hard said incentives council tax likely seen gimmicks risked undermining integrity mps instead called imaginative campaigns boost',\n",
              " 'kilroy names election seat show host robert contest derbyshire seat erewash next general elizabeth blackman seat says fight record constituency mr announced plans day launching new latin east midlands quit uk independence wants new group change face uk choice election constituency quashes speculation would stand defence secretary geoff hoon ukip vote erewash last june european elections mr among candidates erewash held tories since ms blackman said proud government achievements declined give view mr told london news conference veritas would avoid old lies said country stolen us mass immigration promised firm fair policy veritas says hopes contest seats forthcoming general election plans announce detailed policies health defence next leader roger knapman says glad see back mr labour campaign spokesman fraser kemp said veritas joining already crowded field right british mr joined new venture one ukip two london assembly damien deputy chairman petrina holdsworth said group parody party men mr quit ukip last week months tension vied unsuccessfully leadership said ashamed member ukip whose leadership gone awol great opportunity offered third place last june european ukip roger said glad see back mr remarkable ability influence people election became clear interested robert party uk independence party nice knowing ukip officials also argue mr straightforward attacking party wanted']"
            ]
          },
          "metadata": {
            "tags": []
          },
          "execution_count": 11
        }
      ]
    },
    {
      "cell_type": "code",
      "metadata": {
        "id": "33AiSarnNDYN"
      },
      "source": [
        "cleaned_summary = []\r\n",
        "for t in data['Summary']:\r\n",
        "    cleaned_summary.append(text_cleaner(t,1))"
      ],
      "execution_count": 12,
      "outputs": []
    },
    {
      "cell_type": "code",
      "metadata": {
        "id": "yWGrYB6LQNUV"
      },
      "source": [
        "data['cleaned_text']=cleaned_text\r\n",
        "data['cleaned_summary']=cleaned_summary"
      ],
      "execution_count": 13,
      "outputs": []
    },
    {
      "cell_type": "code",
      "metadata": {
        "colab": {
          "base_uri": "https://localhost:8080/"
        },
        "id": "NInjwAG5NZ69",
        "outputId": "59c8e7cb-28cd-45e6-aa59-2962f26a761e"
      },
      "source": [
        "cleaned_summary[:10]"
      ],
      "execution_count": 14,
      "outputs": [
        {
          "output_type": "execute_result",
          "data": {
            "text/plain": [
              "['increase in the stamp duty threshold from freeze on petrol duty an extension of tax credit scheme for poorer families possible help for pensioners the stamp duty threshold rise is intended to help first time buyers likely theme of all three of the main general election chancellor is expected to freeze petrol duty and raise the stamp duty threshold from tories are also thought likely to propose increased with shadow chancellor oliver letwin branding stamp duty classic labour stealth credits as the number of properties incurring stamp duty has rocketed as has the government tax average uk property prices have more than doubled while the starting threshold for stamp duty has not the lib dems david laws the chancellor will no doubt tell us today how wonderfully the economy is he liberal democrats unveiled their own proposals to raise the stamp duty threshold to in labour is elected there will be very substantial tax increase in the budget after the of the order of around',\n",
              " 'they are very much not for the good and will destroy scotland regiments by moulding them into single super regiment which will lead to severe recruitment loss of local connections to those regiments and loss to scotland of an important part of her heritage most her future the regiments are the envy of armies around the proposals to either merge or amalgamate the six regiments into super regiment sparked political with labour backbenchers and opposition politicians opposing the proposals include cutting scotland six regiments to five and merging these into super in scotland last mr blair said the aim was to preserve tradition but introduce more effective structure and hinted that super regiment was committee of the army which is made up of the most senior defence will discuss plans for restructuring regiments on ahead of the expected army board spokesman the government and the army board have spent the past four months attempting to trick serving soldiers and the public into thinking their planned changes for the scottish regiments are for the good of the army and for that of the serving their it would be one of five in the new super they do not want to get rid of the history or the traditions of the regiment or the local connections far from all they want to do is make sure they can transfer people easily across regiments and deploy them more',\n",
              " 'michael howard has denied his shadow cabinet was split over its decision to back controversial labour plans to introduce id howard said the police had said id cards could help them foil terror bomb plot in which people could lose their this has all the signs of michael howard overruling concerns over id also said he was confident shadow home secretary mr davis would set out the position very clearly when he stands up to debate the matter next had decided to support the plans as the police said they would help fight crime and illegal douglas hogg said he opposed the plans for id cards branding them regressive step which would intrude into the lives of ordinary citizens without any counterbalancing said they would also press labour over whether objectives could be met and whether the home office would be able to deliver mr howard denied mr his transport and environment said the plans within the party told the bbc mr howard had always been in favour of id and tried to introduce them when he was home they have not they are going to be they pledged to assess the cost effectiveness of id cards and whether people privacy would be properly',\n",
              " 'the report said individual registration should be treated carefully as of voters disappeared from the electoral roll in northern ireland when it was introduced in committee chairman andrew bennett said individual voter as opposed to registration by should be quickly introduced as it could dramatically reduce the chances of is vital that we move ahead with the northern ireland system of individual electoral registration to safeguard the integrity of the britain electoral he report by two mps committees called on thursday for urgent changes to the electoral registration system to combat vote rigging and boost for the general election suggest of people aged between and and of black voters were not on the electoral report said the government should consider fines for unregistered but accepted many experts said it would be an expensive system that would be hard to in written response to labour mp gordon the government said it would normally invite observers to any uk said incentives to such as council tax were likely to be seen as gimmicks and risked undermining the integrity of the mps government has looked at ways of boosting voter which fell to in the last general election in',\n",
              " 'ukip roger has said he is glad to see the back of mr has remarkable ability to influence people after the election it became clear that he was more interested in the robert party than the uk independence party so it was nice knowing now he leader roger knapman says he is glad to see the back of mr won of the vote in erewash in last june european elections with mr among their candidates for the officials also argue mr has not been straightforward in attacking the party he once wanted to announced his plans day after launching his new the latin for quit ukip last week after months of tension as he vied unsuccessfully for the leadership of that was joined in the new venture by one of ukip two london assembly damien who is now deputy show host robert is to contest the derbyshire seat of erewash at the next general',\n",
              " 'mr bannatyne has previously given labour bannatyne disunity in the cabinet has corrosive effect on the warned the abstentions party was the real challenge to labour and they would not be motivated by mr blair promise to produce an unremittingly new labour election he insisted the recent squabbles between mr blair and mr brown were not perceived as problem by the adding there was no impression of governmental cook argued that more prominence was given to these matters because there was not an alternative source of opposition to the spokesman said it was highly unlikely he would give labour more although he would remain supporter and not fund the broadside came as secretary robin cook said he hoped mr brown would be premier at some reported feud between tony blair and gordon brown has prompted labour donor to say he will almost certainly refuse to give more bannatyne also attacked the government over iraq and its poor response to the asian tsunami',\n",
              " 'medical research council professor nancy rothwell said ms kelly views mattered as she was responsible for training future kelly has not set out her detailed views on either issue but has said she intends to put parents first in education was down to the higher education funding council and the research councils to decide on research who is is reported to be and has opposed embryo have also been raised by organisations that ms kelly views might affect sex education policy in if someone as senior as ruth kelly is not going to favour stem cell research we will end up with similarly schizophrenic system in this who is also of research at manchester told the times higher education supplement it would worry her great deal if ministers were have expressed concerns that new education secretary ruth kelly religious views could hamper vital scientific spokeswoman it is not news that ms kelly is catholic but we are not going into any details on she added that claims ms kelly was in charge of university research budget were not',\n",
              " 'he said tory plans to cut tax would cut deep into public will be the central dividing line at the between conservative party taking britain back and planning deep cuts of in our and labour government taking britain which on platform of stability will reform and renew our schools and public services am proud to spend by chancellor said the vote expected to fall on may will give clear and fundamental choice between labour investment and conservative said after seven years labour had transformed from party not trusted with the economy to the only party trusted with the was now party not just of but of employers and he packed audience at gateshead sage the chancellor said the cuts proposed by shadow chancellor oliver letwin were the equivalent of sacking every gp and nurse in the he told',\n",
              " 'mr blair said that whether the public chose michael howard or mr it would result in tory government not labour government and country that goes back and does not move liam fox was speaking after mr blair told labour members the tories offered hard right fox refused to discuss weekend newspaper reports that the party had repaid to former tory treasurer lord ashcroft after he said the party could not win the lib dems accuse mr blair of making speech to labour delegates which will not help him regain public tory attacked labour six new pledges as vacuous and said mr blair was very worried voters would take revenge for his failure to fox accused mr blair and other cabinet ministers of telling lies about their policies and then attacking the what was seen as highly personal speech in gateshead on mr blair have the same passion and hunger as when first walked through the door of downing lib dem leader charles kennedy is expected to attack mr blair words as he begins nationwide tour on would not discuss reports the party repaid to lord ashcroft after he predicted an election',\n",
              " 'six government units would also be scrapped under proposals which the tories say would save more than frontbencher john redwood said britain needed slimmer government and lower taxes to be government has announced plans to cut civil servants as part of its efficiency conservatives are committed to cutting labour public spending plans by massive he tories say the strategic health authorities are not needed as it is better that local rather than run hospitals and to abolish quangos have been unveiled by the conservatives as part of their effort to show how government red tape can be liberal democrats have said they would cut the number of whitehall departments to make sure money reaches frontline are creating two the britain of the forgotten majority and bureaucratic he']"
            ]
          },
          "metadata": {
            "tags": []
          },
          "execution_count": 14
        }
      ]
    },
    {
      "cell_type": "markdown",
      "metadata": {
        "id": "NboVpzGj8U-O"
      },
      "source": [
        "Visualization"
      ]
    },
    {
      "cell_type": "code",
      "metadata": {
        "colab": {
          "base_uri": "https://localhost:8080/",
          "height": 281
        },
        "id": "Eddc0AYrQBiA",
        "outputId": "3f62f22b-ab4e-4a46-e037-5f9ce82db8a8"
      },
      "source": [
        "import matplotlib.pyplot as plt\r\n",
        "\r\n",
        "text_word_count = []\r\n",
        "summary_word_count = []\r\n",
        "\r\n",
        "# populate the lists with sentence lengths\r\n",
        "for i in data['cleaned_text']:\r\n",
        "      text_word_count.append(len(i.split()))\r\n",
        "\r\n",
        "for i in data['cleaned_summary']:\r\n",
        "      summary_word_count.append(len(i.split()))\r\n",
        "\r\n",
        "length_df = pd.DataFrame({'text':text_word_count, 'summary':summary_word_count})\r\n",
        "\r\n",
        "length_df.hist(bins = 30)\r\n",
        "plt.show()"
      ],
      "execution_count": 15,
      "outputs": [
        {
          "output_type": "display_data",
          "data": {
            "image/png": "[encoded data removed]",
            "text/plain": [
              "<Figure size 432x288 with 2 Axes>"
            ]
          },
          "metadata": {
            "tags": [],
            "needs_background": "light"
          }
        }
      ]
    },
    {
      "cell_type": "code",
      "metadata": {
        "colab": {
          "base_uri": "https://localhost:8080/"
        },
        "id": "9qqYFWjoSJJ8",
        "outputId": "3e0bd6f6-5d8a-4b6e-c91b-308a860a9e8f"
      },
      "source": [
        "cnt=0\r\n",
        "for i in data['cleaned_summary']:\r\n",
        "    if(len(i.split())<=200):\r\n",
        "        cnt=cnt+1\r\n",
        "print(cnt/len(data['cleaned_summary']))"
      ],
      "execution_count": 16,
      "outputs": [
        {
          "output_type": "stream",
          "text": [
            "0.8489887640449438\n"
          ],
          "name": "stdout"
        }
      ]
    },
    {
      "cell_type": "code",
      "metadata": {
        "colab": {
          "base_uri": "https://localhost:8080/"
        },
        "id": "t7kgERuHSkPT",
        "outputId": "80282dca-6ef9-4668-bab7-e994bb6ed644"
      },
      "source": [
        "cnt=0\r\n",
        "for i in data['cleaned_text']:\r\n",
        "    if(len(i.split())<=300):\r\n",
        "        cnt=cnt+1\r\n",
        "print(cnt/len(data['cleaned_text']))"
      ],
      "execution_count": 17,
      "outputs": [
        {
          "output_type": "stream",
          "text": [
            "0.9397752808988764\n"
          ],
          "name": "stdout"
        }
      ]
    },
    {
      "cell_type": "code",
      "metadata": {
        "id": "hyRg9nPwSYm8"
      },
      "source": [
        "max_text_len=300\r\n",
        "max_summary_len=200"
      ],
      "execution_count": 18,
      "outputs": []
    },
    {
      "cell_type": "code",
      "metadata": {
        "id": "Y4YiHFRuTJPb"
      },
      "source": [
        "cleaned_text =np.array(data['cleaned_text'])\r\n",
        "cleaned_summary=np.array(data['cleaned_summary'])\r\n",
        "\r\n",
        "short_text=[]\r\n",
        "short_summary=[]\r\n",
        "\r\n",
        "for i in range(len(cleaned_text)):\r\n",
        "    if(len(cleaned_summary[i].split())<=max_summary_len and len(cleaned_text[i].split())<=max_text_len):\r\n",
        "        short_text.append(cleaned_text[i])\r\n",
        "        short_summary.append(cleaned_summary[i])\r\n",
        "        \r\n",
        "df=pd.DataFrame({'text':short_text,'summary':short_summary})"
      ],
      "execution_count": 19,
      "outputs": []
    },
    {
      "cell_type": "markdown",
      "metadata": {
        "id": "VSi22gV8-0PR"
      },
      "source": [
        "Adding START and END Tokens to the Summary "
      ]
    },
    {
      "cell_type": "code",
      "metadata": {
        "id": "OHEknacpTOub"
      },
      "source": [
        "df['summary'] = df['summary'].apply(lambda x : 'sostok '+ x + ' eostok')"
      ],
      "execution_count": 20,
      "outputs": []
    },
    {
      "cell_type": "code",
      "metadata": {
        "id": "KAhU718Dj9Bu"
      },
      "source": [
        "pd.set_option(\"display.max_colwidth\", 1500)"
      ],
      "execution_count": 21,
      "outputs": []
    },
    {
      "cell_type": "markdown",
      "metadata": {
        "id": "XryXhyF9-9B4"
      },
      "source": [
        "Test Train Split "
      ]
    },
    {
      "cell_type": "code",
      "metadata": {
        "id": "HZqTuzLATdvH"
      },
      "source": [
        "from sklearn.model_selection import train_test_split\r\n",
        "x_tr,x_val,y_tr,y_val=train_test_split(np.array(df['text']),np.array(df['summary']),test_size=0.1,random_state=0,shuffle=True)"
      ],
      "execution_count": 22,
      "outputs": []
    },
    {
      "cell_type": "code",
      "metadata": {
        "id": "7mUWzi4oTk2x"
      },
      "source": [
        "from keras.preprocessing.text import Tokenizer \r\n",
        "from keras.preprocessing.sequence import pad_sequences\r\n",
        "\r\n",
        "#prepare a tokenizer for reviews on training data\r\n",
        "x_tokenizer = Tokenizer() \r\n",
        "x_tokenizer.fit_on_texts(list(x_tr))"
      ],
      "execution_count": 23,
      "outputs": []
    },
    {
      "cell_type": "markdown",
      "metadata": {
        "id": "_qY_JQnK_BQO"
      },
      "source": [
        "Rare words "
      ]
    },
    {
      "cell_type": "code",
      "metadata": {
        "colab": {
          "base_uri": "https://localhost:8080/"
        },
        "id": "QV7mCVWuTuoS",
        "outputId": "cfdc6578-0a6d-4d20-9641-2b0255336fdb"
      },
      "source": [
        "thresh=4\r\n",
        "\r\n",
        "cnt=0\r\n",
        "tot_cnt=0\r\n",
        "freq=0\r\n",
        "tot_freq=0\r\n",
        "\r\n",
        "for key,value in x_tokenizer.word_counts.items():\r\n",
        "    tot_cnt=tot_cnt+1\r\n",
        "    tot_freq=tot_freq+value\r\n",
        "    if(value<thresh):\r\n",
        "        cnt=cnt+1\r\n",
        "        freq=freq+value\r\n",
        "    \r\n",
        "print(\"% of rare words in vocabulary:\",(cnt/tot_cnt)*100)\r\n",
        "print(\"Total Coverage of rare words:\",(freq/tot_freq)*100)"
      ],
      "execution_count": 24,
      "outputs": [
        {
          "output_type": "stream",
          "text": [
            "% of rare words in vocabulary: 43.38055920435354\n",
            "Total Coverage of rare words: 3.811186050828616\n"
          ],
          "name": "stdout"
        }
      ]
    },
    {
      "cell_type": "code",
      "metadata": {
        "id": "oNmGKdeTT5RM"
      },
      "source": [
        "#prepare a tokenizer for reviews on training data\r\n",
        "x_tokenizer = Tokenizer(num_words=tot_cnt-cnt) \r\n",
        "x_tokenizer.fit_on_texts(list(x_tr))\r\n",
        "\r\n",
        "#convert text sequences into integer sequences\r\n",
        "x_tr_seq    =   x_tokenizer.texts_to_sequences(x_tr) \r\n",
        "x_val_seq   =   x_tokenizer.texts_to_sequences(x_val)\r\n",
        "\r\n",
        "#padding zero upto maximum length\r\n",
        "x_tr    =   pad_sequences(x_tr_seq,  maxlen=max_text_len, padding='post')\r\n",
        "x_val   =   pad_sequences(x_val_seq, maxlen=max_text_len, padding='post')\r\n",
        "\r\n",
        "#size of vocabulary ( +1 for padding token)\r\n",
        "x_voc   =  x_tokenizer.num_words + 1"
      ],
      "execution_count": 25,
      "outputs": []
    },
    {
      "cell_type": "code",
      "metadata": {
        "colab": {
          "base_uri": "https://localhost:8080/"
        },
        "id": "NVil1ccmUBDD",
        "outputId": "18c7ea13-8a27-4d31-b73b-d9a7fbe2479d"
      },
      "source": [
        "x_voc"
      ],
      "execution_count": 26,
      "outputs": [
        {
          "output_type": "execute_result",
          "data": {
            "text/plain": [
              "12070"
            ]
          },
          "metadata": {
            "tags": []
          },
          "execution_count": 26
        }
      ]
    },
    {
      "cell_type": "code",
      "metadata": {
        "id": "A52ECiZCUHE-"
      },
      "source": [
        "#prepare a tokenizer for summaries on training data\r\n",
        "y_tokenizer = Tokenizer()   \r\n",
        "y_tokenizer.fit_on_texts(list(y_tr))"
      ],
      "execution_count": 27,
      "outputs": []
    },
    {
      "cell_type": "code",
      "metadata": {
        "colab": {
          "base_uri": "https://localhost:8080/"
        },
        "id": "3CtbnzyEUONs",
        "outputId": "acadcb51-0c1d-4181-c8b2-47eeab2081bf"
      },
      "source": [
        "\r\n",
        "thresh=6\r\n",
        "\r\n",
        "cnt=0\r\n",
        "tot_cnt=0\r\n",
        "freq=0\r\n",
        "tot_freq=0\r\n",
        "\r\n",
        "for key,value in y_tokenizer.word_counts.items():\r\n",
        "    tot_cnt=tot_cnt+1\r\n",
        "    tot_freq=tot_freq+value\r\n",
        "    if(value<thresh):\r\n",
        "        cnt=cnt+1\r\n",
        "        freq=freq+value\r\n",
        "    \r\n",
        "print(\"% of rare words in vocabulary:\",(cnt/tot_cnt)*100)\r\n",
        "print(\"Total Coverage of rare words:\",(freq/tot_freq)*100)"
      ],
      "execution_count": 28,
      "outputs": [
        {
          "output_type": "stream",
          "text": [
            "% of rare words in vocabulary: 58.055877243775335\n",
            "Total Coverage of rare words: 5.239545860971908\n"
          ],
          "name": "stdout"
        }
      ]
    },
    {
      "cell_type": "code",
      "metadata": {
        "id": "DhgJuGTMUVDp"
      },
      "source": [
        "#prepare a tokenizer for reviews on training data\r\n",
        "y_tokenizer = Tokenizer(num_words=tot_cnt-cnt) \r\n",
        "y_tokenizer.fit_on_texts(list(y_tr))\r\n",
        "\r\n",
        "#convert text sequences into integer sequences\r\n",
        "y_tr_seq    =   y_tokenizer.texts_to_sequences(y_tr) \r\n",
        "y_val_seq   =   y_tokenizer.texts_to_sequences(y_val) \r\n",
        "\r\n",
        "#padding zero upto maximum length\r\n",
        "y_tr    =   pad_sequences(y_tr_seq, maxlen=max_summary_len, padding='post')\r\n",
        "y_val   =   pad_sequences(y_val_seq, maxlen=max_summary_len, padding='post')\r\n",
        "\r\n",
        "#size of vocabulary\r\n",
        "y_voc  =   y_tokenizer.num_words +1"
      ],
      "execution_count": 29,
      "outputs": []
    },
    {
      "cell_type": "code",
      "metadata": {
        "colab": {
          "base_uri": "https://localhost:8080/"
        },
        "id": "wmGESOeJvZ0z",
        "outputId": "52989494-1010-47be-84e4-f1fabdb26495"
      },
      "source": [
        "y_tr.shape"
      ],
      "execution_count": 30,
      "outputs": [
        {
          "output_type": "execute_result",
          "data": {
            "text/plain": [
              "(3396, 200)"
            ]
          },
          "metadata": {
            "tags": []
          },
          "execution_count": 30
        }
      ]
    },
    {
      "cell_type": "code",
      "metadata": {
        "colab": {
          "base_uri": "https://localhost:8080/"
        },
        "id": "roUZxc3dUcqV",
        "outputId": "12fc21c2-477a-49b3-fde5-b90b86e24db8"
      },
      "source": [
        "y_tokenizer.word_counts['sostok'],len(y_tr)"
      ],
      "execution_count": 31,
      "outputs": [
        {
          "output_type": "execute_result",
          "data": {
            "text/plain": [
              "(3396, 3396)"
            ]
          },
          "metadata": {
            "tags": []
          },
          "execution_count": 31
        }
      ]
    },
    {
      "cell_type": "code",
      "metadata": {
        "colab": {
          "base_uri": "https://localhost:8080/"
        },
        "id": "8-xrrVomjVkD",
        "outputId": "46affceb-9e33-4d85-86d2-a02533e1f0cc"
      },
      "source": [
        "y_tokenizer.word_counts['eostok'],len(y_tr)"
      ],
      "execution_count": 32,
      "outputs": [
        {
          "output_type": "execute_result",
          "data": {
            "text/plain": [
              "(3396, 3396)"
            ]
          },
          "metadata": {
            "tags": []
          },
          "execution_count": 32
        }
      ]
    },
    {
      "cell_type": "code",
      "metadata": {
        "id": "2qYc3Td5UsP8"
      },
      "source": [
        "ind=[]\r\n",
        "for i in range(len(y_tr)):\r\n",
        "    cnt=0\r\n",
        "    for j in y_tr[i]:\r\n",
        "        if j!=0:\r\n",
        "            cnt=cnt+1\r\n",
        "    if(cnt==2):\r\n",
        "        ind.append(i)\r\n",
        "\r\n",
        "y_tr=np.delete(y_tr,ind, axis=0)\r\n",
        "x_tr=np.delete(x_tr,ind, axis=0)"
      ],
      "execution_count": 33,
      "outputs": []
    },
    {
      "cell_type": "code",
      "metadata": {
        "id": "Aig2yIXsUyCj"
      },
      "source": [
        "ind=[]\r\n",
        "for i in range(len(y_val)):\r\n",
        "    cnt=0\r\n",
        "    for j in y_val[i]:\r\n",
        "        if j!=0:\r\n",
        "            cnt=cnt+1\r\n",
        "    if(cnt==2):\r\n",
        "        ind.append(i)\r\n",
        "\r\n",
        "y_val=np.delete(y_val,ind, axis=0)\r\n",
        "x_val=np.delete(x_val,ind, axis=0)"
      ],
      "execution_count": 34,
      "outputs": []
    },
    {
      "cell_type": "code",
      "metadata": {
        "colab": {
          "base_uri": "https://localhost:8080/"
        },
        "id": "bZEoPeovjK5L",
        "outputId": "1a94a772-6192-48ff-cd39-21acdf18758b"
      },
      "source": [
        "cnt = 0\r\n",
        "for i in range(len(y_tr)):\r\n",
        "  for j in y_tr[i]:\r\n",
        "    if j==14:      # check that all training data has eostok\r\n",
        "      cnt=cnt+1\r\n",
        "  \r\n",
        "print(cnt)\r\n",
        "print(len(y_tr))\r\n"
      ],
      "execution_count": 35,
      "outputs": [
        {
          "output_type": "stream",
          "text": [
            "3396\n",
            "3396\n"
          ],
          "name": "stdout"
        }
      ]
    },
    {
      "cell_type": "code",
      "metadata": {
        "colab": {
          "base_uri": "https://localhost:8080/"
        },
        "id": "4jdyU_I6y1Hs",
        "outputId": "6fb57ed6-c0c5-4809-a3ee-fa449fbaefb9"
      },
      "source": [
        "cnt = 0\r\n",
        "for i in range(len(y_val)):\r\n",
        "  for j in y_val[i]:\r\n",
        "    if j==14:      # check that all validation data has eostok\r\n",
        "      cnt=cnt+1\r\n",
        "  \r\n",
        "print(cnt)\r\n",
        "print(len(y_val))"
      ],
      "execution_count": 36,
      "outputs": [
        {
          "output_type": "stream",
          "text": [
            "378\n",
            "378\n"
          ],
          "name": "stdout"
        }
      ]
    },
    {
      "cell_type": "code",
      "metadata": {
        "id": "e61NtD8WVNBa"
      },
      "source": [
        "latent_dim = 300\r\n",
        "embedding_dim=100"
      ],
      "execution_count": 37,
      "outputs": []
    },
    {
      "cell_type": "markdown",
      "metadata": {
        "id": "MM98n1IUP-pq"
      },
      "source": [
        "SimpleRNN with single Layer"
      ]
    },
    {
      "cell_type": "code",
      "metadata": {
        "id": "JSkNSpSAP8U6",
        "colab": {
          "base_uri": "https://localhost:8080/"
        },
        "outputId": "5c4b0ca3-eb36-4556-ea94-4853a1dda227"
      },
      "source": [
        "# Encoder\r\n",
        "encoder_inputs = Input(shape=(max_text_len,))\r\n",
        "\r\n",
        "#embedding layer\r\n",
        "enc_emb =  Embedding(x_voc, embedding_dim,trainable=True)(encoder_inputs)\r\n",
        "\r\n",
        "#encoder using RNN\r\n",
        "#encoder_rnn = SimpleRNN(latent_dim,return_sequences=True,return_state=True,dropout=0.4,recurrent_dropout=0.4)\r\n",
        "encoder_1 = SimpleRNN(latent_dim,return_sequences=True,return_state=True,dropout=0.4,recurrent_dropout=0.4)\r\n",
        "encoder_output1, state_h1 = encoder_1(enc_emb)\r\n",
        "\r\n",
        "#encoder 2\r\n",
        "encoder_2 = SimpleRNN(latent_dim,return_sequences=True,return_state=True,dropout=0.4,recurrent_dropout=0.4)\r\n",
        "encoder_output2, state_h2 = encoder_2(encoder_output1)\r\n",
        "\r\n",
        "#encoder 3\r\n",
        "encoder_3=SimpleRNN(latent_dim, return_state=True, return_sequences=True,dropout=0.4,recurrent_dropout=0.4)\r\n",
        "encoder_outputs, state_h = encoder_3(encoder_output2)\r\n",
        "\r\n",
        "# Set up the decoder, using `encoder_states` as initial state.\r\n",
        "decoder_inputs = Input(shape=(None,))\r\n",
        "\r\n",
        "#embedding layer\r\n",
        "dec_emb_layer = Embedding(y_voc, embedding_dim,trainable=True)\r\n",
        "dec_emb = dec_emb_layer(decoder_inputs)\r\n",
        "\r\n",
        "decoder_1 = SimpleRNN(latent_dim, return_sequences=True, return_state=True,dropout=0.4,recurrent_dropout=0.2)\r\n",
        "decoder_outputs,decoder_fwd_state = decoder_1(dec_emb,initial_state=[state_h])\r\n",
        "\r\n",
        "# Attention layer\r\n",
        "#attn_layer = Attention(name='attention_layer')\r\n",
        "#attn_out, attn_states = attn_layer([encoder_outputs, decoder_outputs])\r\n",
        "\r\n",
        "# Concat attention input and decoder LSTM output\r\n",
        "#decoder_concat_input = Concatenate(axis=-1, name='concat_layer')([decoder_outputs, attn_out])\r\n",
        "\r\n",
        "#dense layer\r\n",
        "decoder_dense =  TimeDistributed(Dense(y_voc, activation='softmax'))\r\n",
        "#decoder_outputs = decoder_dense(decoder_concat_input)\r\n",
        "decoder_outputs = decoder_dense(decoder_outputs)\r\n",
        "\r\n",
        "# Define the model \r\n",
        "model = Model([encoder_inputs, decoder_inputs], decoder_outputs)\r\n",
        "\r\n",
        "model.summary()"
      ],
      "execution_count": 38,
      "outputs": [
        {
          "output_type": "stream",
          "text": [
            "Model: \"model\"\n",
            "__________________________________________________________________________________________________\n",
            "Layer (type)                    Output Shape         Param #     Connected to                     \n",
            "==================================================================================================\n",
            "input_1 (InputLayer)            [(None, 300)]        0                                            \n",
            "__________________________________________________________________________________________________\n",
            "embedding (Embedding)           (None, 300, 100)     1207000     input_1[0][0]                    \n",
            "__________________________________________________________________________________________________\n",
            "simple_rnn (SimpleRNN)          [(None, 300, 300), ( 120300      embedding[0][0]                  \n",
            "__________________________________________________________________________________________________\n",
            "input_2 (InputLayer)            [(None, None)]       0                                            \n",
            "__________________________________________________________________________________________________\n",
            "simple_rnn_1 (SimpleRNN)        [(None, 300, 300), ( 180300      simple_rnn[0][0]                 \n",
            "__________________________________________________________________________________________________\n",
            "embedding_1 (Embedding)         (None, None, 100)    579600      input_2[0][0]                    \n",
            "__________________________________________________________________________________________________\n",
            "simple_rnn_2 (SimpleRNN)        [(None, 300, 300), ( 180300      simple_rnn_1[0][0]               \n",
            "__________________________________________________________________________________________________\n",
            "simple_rnn_3 (SimpleRNN)        [(None, None, 300),  120300      embedding_1[0][0]                \n",
            "                                                                 simple_rnn_2[0][1]               \n",
            "__________________________________________________________________________________________________\n",
            "time_distributed (TimeDistribut (None, None, 5796)   1744596     simple_rnn_3[0][0]               \n",
            "==================================================================================================\n",
            "Total params: 4,132,396\n",
            "Trainable params: 4,132,396\n",
            "Non-trainable params: 0\n",
            "__________________________________________________________________________________________________\n"
          ],
          "name": "stdout"
        }
      ]
    },
    {
      "cell_type": "code",
      "metadata": {
        "id": "zp8fobh0VUpP"
      },
      "source": [
        "model.compile(optimizer='Adam', loss='sparse_categorical_crossentropy')"
      ],
      "execution_count": 39,
      "outputs": []
    },
    {
      "cell_type": "code",
      "metadata": {
        "id": "t0yFEf2YVZXY"
      },
      "source": [
        "es = EarlyStopping(monitor='val_loss', mode='min', verbose=1,patience=2)"
      ],
      "execution_count": 40,
      "outputs": []
    },
    {
      "cell_type": "code",
      "metadata": {
        "colab": {
          "base_uri": "https://localhost:8080/"
        },
        "id": "NM8O8f-OVdzy",
        "outputId": "08eef08a-062d-4375-8cb8-154bd792a31a"
      },
      "source": [
        "history=model.fit([x_tr,y_tr[:,:-1]], y_tr.reshape(y_tr.shape[0],y_tr.shape[1], 1)[:,1:] ,\r\n",
        "                   epochs=50,callbacks=[es],batch_size=64, validation_data=([x_val,y_val[:,:-1]], y_val.reshape(y_val.shape[0],y_val.shape[1], 1)[:,1:]))"
      ],
      "execution_count": 41,
      "outputs": [
        {
          "output_type": "stream",
          "text": [
            "Epoch 1/50\n",
            "54/54 [==============================] - 105s 2s/step - loss: 6.7232 - val_loss: 3.8588\n",
            "Epoch 2/50\n",
            "54/54 [==============================] - 98s 2s/step - loss: 3.8300 - val_loss: 3.4664\n",
            "Epoch 3/50\n",
            "54/54 [==============================] - 97s 2s/step - loss: 3.6164 - val_loss: 3.4453\n",
            "Epoch 4/50\n",
            "54/54 [==============================] - 96s 2s/step - loss: 3.5950 - val_loss: 3.4304\n",
            "Epoch 5/50\n",
            "54/54 [==============================] - 96s 2s/step - loss: 3.5637 - val_loss: 3.4213\n",
            "Epoch 6/50\n",
            "54/54 [==============================] - 97s 2s/step - loss: 3.5316 - val_loss: 3.3845\n",
            "Epoch 7/50\n",
            "54/54 [==============================] - 97s 2s/step - loss: 3.5193 - val_loss: 3.3371\n",
            "Epoch 8/50\n",
            "54/54 [==============================] - 97s 2s/step - loss: 3.4255 - val_loss: 3.2580\n",
            "Epoch 9/50\n",
            "54/54 [==============================] - 95s 2s/step - loss: 3.3671 - val_loss: 3.1960\n",
            "Epoch 10/50\n",
            "54/54 [==============================] - 96s 2s/step - loss: 3.3092 - val_loss: 3.2198\n",
            "Epoch 11/50\n",
            "54/54 [==============================] - 95s 2s/step - loss: 3.7738 - val_loss: 3.1568\n",
            "Epoch 12/50\n",
            "54/54 [==============================] - 96s 2s/step - loss: 3.2638 - val_loss: 3.1203\n",
            "Epoch 13/50\n",
            "54/54 [==============================] - 96s 2s/step - loss: 3.2624 - val_loss: 3.0949\n",
            "Epoch 14/50\n",
            "54/54 [==============================] - 96s 2s/step - loss: 3.1796 - val_loss: 3.0760\n",
            "Epoch 15/50\n",
            "54/54 [==============================] - 96s 2s/step - loss: 3.1604 - val_loss: 3.0601\n",
            "Epoch 16/50\n",
            "54/54 [==============================] - 95s 2s/step - loss: 3.1522 - val_loss: 3.0443\n",
            "Epoch 17/50\n",
            "54/54 [==============================] - 95s 2s/step - loss: 3.0971 - val_loss: 3.0295\n",
            "Epoch 18/50\n",
            "54/54 [==============================] - 94s 2s/step - loss: 3.0834 - val_loss: 3.0113\n",
            "Epoch 19/50\n",
            "54/54 [==============================] - 95s 2s/step - loss: 3.0740 - val_loss: 2.9966\n",
            "Epoch 20/50\n",
            "54/54 [==============================] - 95s 2s/step - loss: 3.0561 - val_loss: 2.9828\n",
            "Epoch 21/50\n",
            "54/54 [==============================] - 96s 2s/step - loss: 3.0212 - val_loss: 2.9692\n",
            "Epoch 22/50\n",
            "54/54 [==============================] - 95s 2s/step - loss: 2.9904 - val_loss: 2.9497\n",
            "Epoch 23/50\n",
            "54/54 [==============================] - 98s 2s/step - loss: 3.0031 - val_loss: 2.9352\n",
            "Epoch 24/50\n",
            "54/54 [==============================] - 97s 2s/step - loss: 2.9514 - val_loss: 2.9133\n",
            "Epoch 25/50\n",
            "54/54 [==============================] - 97s 2s/step - loss: 2.9517 - val_loss: 2.8953\n",
            "Epoch 26/50\n",
            "54/54 [==============================] - 97s 2s/step - loss: 2.9300 - val_loss: 2.8774\n",
            "Epoch 27/50\n",
            "54/54 [==============================] - 97s 2s/step - loss: 2.8827 - val_loss: 2.8601\n",
            "Epoch 28/50\n",
            "54/54 [==============================] - 96s 2s/step - loss: 2.8724 - val_loss: 2.8408\n",
            "Epoch 29/50\n",
            "54/54 [==============================] - 95s 2s/step - loss: 2.8465 - val_loss: 2.8252\n",
            "Epoch 30/50\n",
            "54/54 [==============================] - 95s 2s/step - loss: 2.8385 - val_loss: 2.8070\n",
            "Epoch 31/50\n",
            "54/54 [==============================] - 94s 2s/step - loss: 2.7790 - val_loss: 2.7902\n",
            "Epoch 32/50\n",
            "54/54 [==============================] - 94s 2s/step - loss: 2.7570 - val_loss: 2.7716\n",
            "Epoch 33/50\n",
            "54/54 [==============================] - 96s 2s/step - loss: 2.7529 - val_loss: 2.7552\n",
            "Epoch 34/50\n",
            "54/54 [==============================] - 98s 2s/step - loss: 2.7125 - val_loss: 2.7364\n",
            "Epoch 35/50\n",
            "54/54 [==============================] - 97s 2s/step - loss: 2.7004 - val_loss: 2.7203\n",
            "Epoch 36/50\n",
            "54/54 [==============================] - 97s 2s/step - loss: 2.6544 - val_loss: 2.7062\n",
            "Epoch 37/50\n",
            "54/54 [==============================] - 97s 2s/step - loss: 2.6502 - val_loss: 2.6910\n",
            "Epoch 38/50\n",
            "54/54 [==============================] - 97s 2s/step - loss: 2.6081 - val_loss: 2.6733\n",
            "Epoch 39/50\n",
            "54/54 [==============================] - 98s 2s/step - loss: 2.5859 - val_loss: 2.6650\n",
            "Epoch 40/50\n",
            "54/54 [==============================] - 98s 2s/step - loss: 2.5713 - val_loss: 2.6445\n",
            "Epoch 41/50\n",
            "54/54 [==============================] - 98s 2s/step - loss: 2.5509 - val_loss: 2.6303\n",
            "Epoch 42/50\n",
            "54/54 [==============================] - 97s 2s/step - loss: 2.5305 - val_loss: 2.6145\n",
            "Epoch 43/50\n",
            "54/54 [==============================] - 98s 2s/step - loss: 2.4943 - val_loss: 2.6014\n",
            "Epoch 44/50\n",
            "54/54 [==============================] - 97s 2s/step - loss: 2.4978 - val_loss: 2.5890\n",
            "Epoch 45/50\n",
            "54/54 [==============================] - 96s 2s/step - loss: 2.4730 - val_loss: 2.5759\n",
            "Epoch 46/50\n",
            "54/54 [==============================] - 95s 2s/step - loss: 2.4516 - val_loss: 2.5650\n",
            "Epoch 47/50\n",
            "54/54 [==============================] - 95s 2s/step - loss: 2.4360 - val_loss: 2.5540\n",
            "Epoch 48/50\n",
            "54/54 [==============================] - 94s 2s/step - loss: 2.4320 - val_loss: 2.5416\n",
            "Epoch 49/50\n",
            "54/54 [==============================] - 96s 2s/step - loss: 2.3913 - val_loss: 2.5386\n",
            "Epoch 50/50\n",
            "54/54 [==============================] - 97s 2s/step - loss: 2.4031 - val_loss: 2.5205\n"
          ],
          "name": "stdout"
        }
      ]
    },
    {
      "cell_type": "code",
      "metadata": {
        "id": "gv60rPdAevt2"
      },
      "source": [
        "reverse_target_word_index=y_tokenizer.index_word\r\n",
        "reverse_source_word_index=x_tokenizer.index_word\r\n",
        "target_word_index=y_tokenizer.word_index"
      ],
      "execution_count": 47,
      "outputs": []
    },
    {
      "cell_type": "code",
      "metadata": {
        "id": "6GFppw4gakSw"
      },
      "source": [
        "import matplotlib.pyplot as plt"
      ],
      "execution_count": 48,
      "outputs": []
    },
    {
      "cell_type": "code",
      "metadata": {
        "id": "51M4TBPjarkA"
      },
      "source": [
        "#acc = history.history['accuracy']\r\n",
        "#val_acc = history.history['val_accuracy']\r\n",
        "loss = history.history['loss']\r\n",
        "val_loss = history.history['val_loss']"
      ],
      "execution_count": 49,
      "outputs": []
    },
    {
      "cell_type": "code",
      "metadata": {
        "id": "Q7qiJN7kaxYf"
      },
      "source": [
        "epochs = range(1,len(loss)+1)"
      ],
      "execution_count": 50,
      "outputs": []
    },
    {
      "cell_type": "code",
      "metadata": {
        "id": "pb3DIChFa2Ut",
        "outputId": "c9bd1d51-4552-4f60-e95d-cbef3af40aa7",
        "colab": {
          "base_uri": "https://localhost:8080/",
          "height": 239
        }
      },
      "source": [
        "plt.plot(epochs , acc , 'bo' ,  label = 'Training acc')\r\n",
        "plt.plot(epochs , val_acc , 'b' ,  label = 'Validation acc')\r\n",
        "plt.title('Training and Validation accuracy')\r\n",
        "plt.legend()\r\n",
        "plt.figure()"
      ],
      "execution_count": 46,
      "outputs": [
        {
          "output_type": "error",
          "ename": "NameError",
          "evalue": "ignored",
          "traceback": [
            "\u001b[0;31m---------------------------------------------------------------------------\u001b[0m",
            "\u001b[0;31mNameError\u001b[0m                                 Traceback (most recent call last)",
            "\u001b[0;32m<ipython-input-46-597d68c5ef69>\u001b[0m in \u001b[0;36m<module>\u001b[0;34m()\u001b[0m\n\u001b[0;32m----> 1\u001b[0;31m \u001b[0mplt\u001b[0m\u001b[0;34m.\u001b[0m\u001b[0mplot\u001b[0m\u001b[0;34m(\u001b[0m\u001b[0mepochs\u001b[0m \u001b[0;34m,\u001b[0m \u001b[0macc\u001b[0m \u001b[0;34m,\u001b[0m \u001b[0;34m'bo'\u001b[0m \u001b[0;34m,\u001b[0m  \u001b[0mlabel\u001b[0m \u001b[0;34m=\u001b[0m \u001b[0;34m'Training acc'\u001b[0m\u001b[0;34m)\u001b[0m\u001b[0;34m\u001b[0m\u001b[0;34m\u001b[0m\u001b[0m\n\u001b[0m\u001b[1;32m      2\u001b[0m \u001b[0mplt\u001b[0m\u001b[0;34m.\u001b[0m\u001b[0mplot\u001b[0m\u001b[0;34m(\u001b[0m\u001b[0mepochs\u001b[0m \u001b[0;34m,\u001b[0m \u001b[0mval_acc\u001b[0m \u001b[0;34m,\u001b[0m \u001b[0;34m'b'\u001b[0m \u001b[0;34m,\u001b[0m  \u001b[0mlabel\u001b[0m \u001b[0;34m=\u001b[0m \u001b[0;34m'Validation acc'\u001b[0m\u001b[0;34m)\u001b[0m\u001b[0;34m\u001b[0m\u001b[0;34m\u001b[0m\u001b[0m\n\u001b[1;32m      3\u001b[0m \u001b[0mplt\u001b[0m\u001b[0;34m.\u001b[0m\u001b[0mtitle\u001b[0m\u001b[0;34m(\u001b[0m\u001b[0;34m'Training and Validation accuracy'\u001b[0m\u001b[0;34m)\u001b[0m\u001b[0;34m\u001b[0m\u001b[0;34m\u001b[0m\u001b[0m\n\u001b[1;32m      4\u001b[0m \u001b[0mplt\u001b[0m\u001b[0;34m.\u001b[0m\u001b[0mlegend\u001b[0m\u001b[0;34m(\u001b[0m\u001b[0;34m)\u001b[0m\u001b[0;34m\u001b[0m\u001b[0;34m\u001b[0m\u001b[0m\n\u001b[1;32m      5\u001b[0m \u001b[0mplt\u001b[0m\u001b[0;34m.\u001b[0m\u001b[0mfigure\u001b[0m\u001b[0;34m(\u001b[0m\u001b[0;34m)\u001b[0m\u001b[0;34m\u001b[0m\u001b[0;34m\u001b[0m\u001b[0m\n",
            "\u001b[0;31mNameError\u001b[0m: name 'acc' is not defined"
          ]
        }
      ]
    },
    {
      "cell_type": "code",
      "metadata": {
        "colab": {
          "base_uri": "https://localhost:8080/",
          "height": 281
        },
        "id": "KZmHJNzDa8r_",
        "outputId": "f5cd49a9-1d5e-401e-9493-b517e1d6a7e6"
      },
      "source": [
        "plt.plot(epochs , loss , 'bo' ,  label = 'Training loss')\r\n",
        "plt.plot(epochs , val_loss , 'b' ,  label = 'Validation loss')\r\n",
        "plt.title('Training and Validation loss')\r\n",
        "plt.legend()\r\n",
        "plt.show()"
      ],
      "execution_count": 51,
      "outputs": [
        {
          "output_type": "display_data",
          "data": {
            "image/png": "[encoded data removed]",
            "text/plain": [
              "<Figure size 432x288 with 1 Axes>"
            ]
          },
          "metadata": {
            "tags": [],
            "needs_background": "light"
          }
        }
      ]
    },
    {
      "cell_type": "code",
      "metadata": {
        "id": "6XVp3knXUuVR"
      },
      "source": [
        "\r\n",
        "# Encode the input sequence to get the feature vector\r\n",
        "encoder_model = Model(inputs=encoder_inputs,outputs=[encoder_outputs, state_h])\r\n",
        "\r\n",
        "# Decoder setup\r\n",
        "# Below tensors will hold the states of the previous time step\r\n",
        "decoder_state_input_h = Input(shape=(latent_dim,))\r\n",
        "#decoder_state_input_c = Input(shape=(latent_dim,))\r\n",
        "decoder_hidden_state_input = Input(shape=(max_text_len,latent_dim))\r\n",
        "\r\n",
        "# Get the embeddings of the decoder sequence\r\n",
        "dec_emb2= dec_emb_layer(decoder_inputs) \r\n",
        "# To predict the next word in the sequence, set the initial states to the states from the previous time step\r\n",
        "decoder_outputs2, state_h2 = decoder_1(dec_emb2, initial_state=[decoder_state_input_h])\r\n",
        "\r\n",
        "#attention inference\r\n",
        "#attn_out_inf, attn_states_inf = attn_layer([decoder_hidden_state_input, decoder_outputs2])\r\n",
        "#decoder_inf_concat = Concatenate(axis=-1, name='concat')([decoder_outputs2, attn_out_inf])\r\n",
        "\r\n",
        "# A dense softmax layer to generate prob dist. over the target vocabulary\r\n",
        "decoder_outputs2 = decoder_dense(decoder_outputs2) \r\n",
        "\r\n",
        "# Final decoder model\r\n",
        "decoder_model = Model(\r\n",
        "    [decoder_inputs] + [decoder_hidden_state_input,decoder_state_input_h],\r\n",
        "    [decoder_outputs2] + [state_h2])"
      ],
      "execution_count": 52,
      "outputs": []
    },
    {
      "cell_type": "code",
      "metadata": {
        "id": "DelLQPGMfRVj"
      },
      "source": [
        "def decode_sequence_RNN(input_seq):\r\n",
        "    # Encode the input as state vectors.\r\n",
        "    e_out, e_h = encoder_model.predict(input_seq)\r\n",
        "    \r\n",
        "    # Generate empty target sequence of length 1.\r\n",
        "    target_seq = np.zeros((1,1))\r\n",
        "    \r\n",
        "    # Populate the first word of target sequence with the start word.\r\n",
        "    target_seq[0, 0] = target_word_index['sostok']\r\n",
        "\r\n",
        "    stop_condition = False\r\n",
        "    decoded_sentence = ''\r\n",
        "    while not stop_condition:\r\n",
        "      \r\n",
        "        output_tokens, h = decoder_model.predict([target_seq] + [e_out, e_h])\r\n",
        "        \r\n",
        "        # Sample a token\r\n",
        "        #sampled_token_index = np.argmax(output_tokens[0, -1, :])\r\n",
        "        sampled_token_index = np.argmax(output_tokens[0, -1, 2:]) + 2\r\n",
        "        if(sampled_token_index == 0):\r\n",
        "          print('sample token index',sampled_token_index)\r\n",
        "        if(sampled_token_index == 0):\r\n",
        "          next\r\n",
        "        sampled_token = reverse_target_word_index[sampled_token_index]\r\n",
        "        \r\n",
        "        if(sampled_token!='eostok'):\r\n",
        "            decoded_sentence += ' '+sampled_token\r\n",
        "\r\n",
        "        # Exit condition: either hit max length or find stop word.\r\n",
        "        if (sampled_token == 'eostok'  or len(decoded_sentence.split()) >= (max_summary_len-1)):\r\n",
        "            stop_condition = True\r\n",
        "\r\n",
        "        # Update the target sequence (of length 1).\r\n",
        "        target_seq = np.zeros((1,1))\r\n",
        "        target_seq[0, 0] = sampled_token_index\r\n",
        "\r\n",
        "        # Update internal states\r\n",
        "        e_h = h\r\n",
        "\r\n",
        "    return decoded_sentence\r\n"
      ],
      "execution_count": 53,
      "outputs": []
    },
    {
      "cell_type": "code",
      "metadata": {
        "id": "zFObaniRfYXz"
      },
      "source": [
        "def seq2summary(input_seq):\r\n",
        "    newString=''\r\n",
        "    for i in input_seq:\r\n",
        "        if((i!=0 and i!=target_word_index['sostok']) and i!=target_word_index['eostok']):\r\n",
        "            newString=newString+reverse_target_word_index[i]+' '\r\n",
        "    return newString\r\n",
        "\r\n",
        "def seq2text(input_seq):\r\n",
        "    newString=''\r\n",
        "    for i in input_seq:\r\n",
        "        if(i!=0):\r\n",
        "            newString=newString+reverse_source_word_index[i]+' '\r\n",
        "    return newString"
      ],
      "execution_count": 54,
      "outputs": []
    },
    {
      "cell_type": "code",
      "metadata": {
        "colab": {
          "base_uri": "https://localhost:8080/"
        },
        "id": "4p_yyjHVfeCw",
        "outputId": "26cf0efb-15f8-4f2c-885b-073275aafb8a"
      },
      "source": [
        "for i in range(4,5):\r\n",
        "    print(\"Review:\",seq2text(x_val[i]))\r\n",
        "    manual_summary = seq2summary(y_val[i])\r\n",
        "    print(\"Original summary:\",manual_summary)\r\n",
        "    output = decode_sequence_RNN(x_val[i].reshape(1,max_text_len))\r\n",
        "    print(\"Predicted summary:\",output)\r\n",
        "    print(\"\\n\")"
      ],
      "execution_count": 55,
      "outputs": [
        {
          "output_type": "stream",
          "text": [
            "Review: laws bite spammer net spam king seeking bankruptcy man behind billions junk mail said lawsuits forced company chapter optinrealbig fighting several legal notably pushing millions dollars company said filing chapter would help try resolve legal problems still keep third biggest spammer world junk mail watchdog optinrealbig sued december sending mail messages violated lawsuit brought microsoft new york attorney general eliot spitzer alleged mr sent billions spam messages compromised net addresses according microsoft messages sent via net addresses owned ministries communication several korean virginia community college mr settled attorney general case july legal fight microsoft microsoft seeking millions dollars damages optinrealbig laws impose penalties every statement announcing desire seek bankruptcy protection company said could continue contend legal debts included microsoft seeking via litigation relentless distraction said steven legal counsel make expect part optinrealbig describes premier internet marketing company said move seek chapter necessary let keep trading legal \n",
            "Original summary: was fighting several legal most against which is pushing for millions of dollars in its part describes itself as premier internet marketing company and said the move to seek chapter was necessary to let it keep trading while out its legal its chapter filing claimed it had assets of less than by number of companies across the including and still run lawsuit was brought by microsoft and new york attorney general spitzer who alleged that mr and his sent billions of spam messages through net addresses in has been with which to said steven legal for \n",
            "Predicted summary:  mr blair said he was livid about his own he was not to be able to make sure that it is not to be said he would be to be able to make sure that it is to be said it would be able to make sure that it is to be said it would be able to make sure that it is to be said it would be able to make sure that it is to be said it would be able to make sure that it is to be said it would be able to make sure that it is to be said it would be able to make sure that it is to be said it would be able to make sure that it is to be said it would be able to make sure that it is to be said it would be able to make sure that it is to be said it would be able to make sure that it is to be said it would be able to make sure that it is to be said it would be able to make sure that it is to be said it would be\n",
            "\n",
            "\n"
          ],
          "name": "stdout"
        }
      ]
    },
    {
      "cell_type": "code",
      "metadata": {
        "id": "qfbMD6ptcnNq"
      },
      "source": [
        "\r\n",
        "from nltk.translate.bleu_score import sentence_bleu\r\n",
        "from nltk.translate.bleu_score import corpus_bleu"
      ],
      "execution_count": 56,
      "outputs": []
    },
    {
      "cell_type": "code",
      "metadata": {
        "id": "KEf0z_73cq3J"
      },
      "source": [
        "candidate = output.strip().split()\r\n",
        "reference=manual_summary.strip().split()"
      ],
      "execution_count": 57,
      "outputs": []
    },
    {
      "cell_type": "code",
      "metadata": {
        "colab": {
          "base_uri": "https://localhost:8080/"
        },
        "id": "j1mzDBnwcz76",
        "outputId": "8778ac3c-be6f-48ac-ce92-56c7be4197dc"
      },
      "source": [
        "score = sentence_bleu([reference], candidate)\r\n",
        "print(score)"
      ],
      "execution_count": 58,
      "outputs": [
        {
          "output_type": "stream",
          "text": [
            "0.5055598414500756\n"
          ],
          "name": "stdout"
        },
        {
          "output_type": "stream",
          "text": [
            "/usr/local/lib/python3.6/dist-packages/nltk/translate/bleu_score.py:490: UserWarning: \n",
            "Corpus/Sentence contains 0 counts of 2-gram overlaps.\n",
            "BLEU scores might be undesirable; use SmoothingFunction().\n",
            "  warnings.warn(_msg)\n"
          ],
          "name": "stderr"
        }
      ]
    },
    {
      "cell_type": "code",
      "metadata": {
        "colab": {
          "base_uri": "https://localhost:8080/"
        },
        "id": "_GaMlMiJc3Ci",
        "outputId": "81ac2ab5-2df4-4732-f06d-21c65964a34f"
      },
      "source": [
        "score = corpus_bleu([[reference]],[candidate])\r\n",
        "print(score)"
      ],
      "execution_count": 59,
      "outputs": [
        {
          "output_type": "stream",
          "text": [
            "0.5055598414500756\n"
          ],
          "name": "stdout"
        },
        {
          "output_type": "stream",
          "text": [
            "/usr/local/lib/python3.6/dist-packages/nltk/translate/bleu_score.py:490: UserWarning: \n",
            "Corpus/Sentence contains 0 counts of 2-gram overlaps.\n",
            "BLEU scores might be undesirable; use SmoothingFunction().\n",
            "  warnings.warn(_msg)\n"
          ],
          "name": "stderr"
        }
      ]
    },
    {
      "cell_type": "code",
      "metadata": {
        "colab": {
          "base_uri": "https://localhost:8080/"
        },
        "id": "pvaG8q5Oc7bm",
        "outputId": "2b61fb00-0fb0-4119-a1de-8d3ee86c482b"
      },
      "source": [
        "!pip install rouge"
      ],
      "execution_count": 60,
      "outputs": [
        {
          "output_type": "stream",
          "text": [
            "Collecting rouge\n",
            "  Downloading https://files.pythonhosted.org/packages/43/cc/e18e33be20971ff73a056ebdb023476b5a545e744e3fc22acd8c758f1e0d/rouge-1.0.0-py3-none-any.whl\n",
            "Requirement already satisfied: six in /usr/local/lib/python3.6/dist-packages (from rouge) (1.15.0)\n",
            "Installing collected packages: rouge\n",
            "Successfully installed rouge-1.0.0\n"
          ],
          "name": "stdout"
        }
      ]
    },
    {
      "cell_type": "code",
      "metadata": {
        "id": "Ut9UFvvmc--9"
      },
      "source": [
        "from rouge import Rouge\r\n",
        "r = Rouge()"
      ],
      "execution_count": 61,
      "outputs": []
    },
    {
      "cell_type": "code",
      "metadata": {
        "id": "G5GTqF2ldDEu"
      },
      "source": [
        "scores = r.get_scores([manual_summary],[output])"
      ],
      "execution_count": 62,
      "outputs": []
    },
    {
      "cell_type": "code",
      "metadata": {
        "colab": {
          "base_uri": "https://localhost:8080/"
        },
        "id": "k1q8uw3LdHv3",
        "outputId": "a7bc223c-c5ad-4a85-b1cc-1b970e489ff2"
      },
      "source": [
        "print(scores)"
      ],
      "execution_count": 63,
      "outputs": [
        {
          "output_type": "stream",
          "text": [
            "[{'rouge-1': {'f': 0.0881355888298767, 'p': 0.13541666666666666, 'r': 0.06532663316582915}, 'rouge-2': {'f': 0.0, 'p': 0.0, 'r': 0.0}, 'rouge-l': {'f': 0.1290322548132733, 'p': 0.08108108108108109, 'r': 0.3157894736842105}}]\n"
          ],
          "name": "stdout"
        }
      ]
    },
    {
      "cell_type": "code",
      "metadata": {
        "id": "kCz49Eojo2a_"
      },
      "source": [
        "scores[0]['rouge-1']['f']"
      ],
      "execution_count": null,
      "outputs": []
    }
  ]
}